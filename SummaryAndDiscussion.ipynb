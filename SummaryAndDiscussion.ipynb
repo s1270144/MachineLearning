{
  "nbformat": 4,
  "nbformat_minor": 0,
  "metadata": {
    "colab": {
      "name": "SummaryAndDiscussion.ipynb",
      "provenance": [],
      "authorship_tag": "ABX9TyM77caUzllCzgUNSBy3pChq",
      "include_colab_link": true
    },
    "kernelspec": {
      "name": "python3",
      "display_name": "Python 3"
    },
    "language_info": {
      "name": "python"
    }
  },
  "cells": [
    {
      "cell_type": "markdown",
      "metadata": {
        "id": "view-in-github",
        "colab_type": "text"
      },
      "source": [
        "<a href=\"https://colab.research.google.com/github/s1270144/ShutoH/blob/master/SummaryAndDiscussion.ipynb\" target=\"_parent\"><img src=\"https://colab.research.google.com/assets/colab-badge.svg\" alt=\"Open In Colab\"/></a>"
      ]
    },
    {
      "cell_type": "code",
      "execution_count": null,
      "metadata": {
        "id": "I3MS7iF7xcE9"
      },
      "outputs": [],
      "source": [
        ""
      ]
    },
    {
      "cell_type": "markdown",
      "source": [
        "**The Gaussian Kernel-based probability density estimation method**\n",
        "\n",
        "*   Smooth kernels yield smooth probability density estimators\n",
        "*   Easy to calculate\n",
        "\n"
      ],
      "metadata": {
        "id": "-c7KdDhcxuaV"
      }
    },
    {
      "cell_type": "code",
      "source": [
        ""
      ],
      "metadata": {
        "id": "6JX_TrTNxyWL"
      },
      "execution_count": null,
      "outputs": []
    },
    {
      "cell_type": "markdown",
      "source": [
        "**K-NN**\n",
        "\n",
        "*   I find the resulting probability density estimator relatively jagged.\n",
        "*   The values of K is very important.\n",
        "*   Used for identification?\n",
        "\n",
        "  \n",
        "\n",
        "\n",
        "\n"
      ],
      "metadata": {
        "id": "TITlCDZox2vQ"
      }
    }
  ]
}